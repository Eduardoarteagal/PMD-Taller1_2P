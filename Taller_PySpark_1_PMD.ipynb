{
  "nbformat": 4,
  "nbformat_minor": 0,
  "metadata": {
    "colab": {
      "provenance": [],
      "authorship_tag": "ABX9TyMVwQZ/gFMKpumCEymhFEM/",
      "include_colab_link": true
    },
    "kernelspec": {
      "name": "python3",
      "display_name": "Python 3"
    },
    "language_info": {
      "name": "python"
    }
  },
  "cells": [
    {
      "cell_type": "markdown",
      "metadata": {
        "id": "view-in-github",
        "colab_type": "text"
      },
      "source": [
        "<a href=\"https://colab.research.google.com/github/Eduardoarteagal/PMD-Taller1_2P/blob/main/Taller_PySpark_1_PMD.ipynb\" target=\"_parent\"><img src=\"https://colab.research.google.com/assets/colab-badge.svg\" alt=\"Open In Colab\"/></a>"
      ]
    },
    {
      "cell_type": "code",
      "execution_count": null,
      "metadata": {
        "colab": {
          "base_uri": "https://localhost:8080/"
        },
        "id": "0XxPmELXg8FR",
        "outputId": "8e927927-b669-4c9b-cfc9-4647b03b227a"
      },
      "outputs": [
        {
          "output_type": "stream",
          "name": "stdout",
          "text": [
            "Collecting pyspark\n",
            "  Downloading pyspark-3.5.1.tar.gz (317.0 MB)\n",
            "\u001b[2K     \u001b[90m━━━━━━━━━━━━━━━━━━━━━━━━━━━━━━━━━━━━━━━━\u001b[0m \u001b[32m317.0/317.0 MB\u001b[0m \u001b[31m2.2 MB/s\u001b[0m eta \u001b[36m0:00:00\u001b[0m\n",
            "\u001b[?25h  Preparing metadata (setup.py) ... \u001b[?25l\u001b[?25hdone\n",
            "Requirement already satisfied: py4j==0.10.9.7 in /usr/local/lib/python3.10/dist-packages (from pyspark) (0.10.9.7)\n",
            "Building wheels for collected packages: pyspark\n",
            "  Building wheel for pyspark (setup.py) ... \u001b[?25l\u001b[?25hdone\n",
            "  Created wheel for pyspark: filename=pyspark-3.5.1-py2.py3-none-any.whl size=317488491 sha256=59e97cbac0acb235407d154ef56c8ac57daba2371da04af9a66ef6a358d4ddab\n",
            "  Stored in directory: /root/.cache/pip/wheels/80/1d/60/2c256ed38dddce2fdd93be545214a63e02fbd8d74fb0b7f3a6\n",
            "Successfully built pyspark\n",
            "Installing collected packages: pyspark\n",
            "Successfully installed pyspark-3.5.1\n"
          ]
        }
      ],
      "source": [
        "!pip install pyspark"
      ]
    },
    {
      "cell_type": "code",
      "source": [
        "from pyspark.sql import SparkSession\n",
        "from pyspark import SparkContext\n",
        "\n",
        "SpSession = SparkSession \\\n",
        "          .builder \\\n",
        "          .appName(\"Demo Spark\") \\\n",
        "          .getOrCreate()"
      ],
      "metadata": {
        "id": "Xy6YLZEDhCnl"
      },
      "execution_count": null,
      "outputs": []
    },
    {
      "cell_type": "code",
      "source": [
        "SpContext = SpSession.sparkContext"
      ],
      "metadata": {
        "id": "4Nj0FYjehdK8"
      },
      "execution_count": null,
      "outputs": []
    },
    {
      "cell_type": "code",
      "source": [
        "data = SpSession.read.csv('ventas.csv', header=True, inferSchema=True)\n",
        "data.show(5)"
      ],
      "metadata": {
        "colab": {
          "base_uri": "https://localhost:8080/"
        },
        "id": "XzS7srrShf4b",
        "outputId": "7a50f648-5982-41ab-9ca4-969ffd265df1"
      },
      "execution_count": null,
      "outputs": [
        {
          "output_type": "stream",
          "name": "stdout",
          "text": [
            "+----------+----------+--------+-----------+\n",
            "|id_cliente|  producto|cantidad|monto_total|\n",
            "+----------+----------+--------+-----------+\n",
            "|         1|producto_1|       2|       20.0|\n",
            "|         2|producto_2|       1|       15.0|\n",
            "|         3|producto_3|       3|       30.0|\n",
            "|         4|producto_4|       2|       25.0|\n",
            "|         5|producto_5|       1|       10.0|\n",
            "+----------+----------+--------+-----------+\n",
            "only showing top 5 rows\n",
            "\n"
          ]
        }
      ]
    },
    {
      "cell_type": "code",
      "source": [
        "data.printSchema()"
      ],
      "metadata": {
        "colab": {
          "base_uri": "https://localhost:8080/"
        },
        "id": "bRh_gD_9h_5N",
        "outputId": "e130035c-5d4c-42cb-ea7a-ad253a29f2f4"
      },
      "execution_count": null,
      "outputs": [
        {
          "output_type": "stream",
          "name": "stdout",
          "text": [
            "root\n",
            " |-- id_cliente: integer (nullable = true)\n",
            " |-- producto: string (nullable = true)\n",
            " |-- cantidad: integer (nullable = true)\n",
            " |-- monto_total: double (nullable = true)\n",
            "\n"
          ]
        }
      ]
    },
    {
      "cell_type": "code",
      "source": [
        "data.columns"
      ],
      "metadata": {
        "colab": {
          "base_uri": "https://localhost:8080/"
        },
        "id": "ui2oI909iQ3C",
        "outputId": "689fb3fe-6a48-48a8-8bd8-75d892726934"
      },
      "execution_count": null,
      "outputs": [
        {
          "output_type": "execute_result",
          "data": {
            "text/plain": [
              "['id_cliente', 'producto', 'cantidad', 'monto_total']"
            ]
          },
          "metadata": {},
          "execution_count": 8
        }
      ]
    },
    {
      "cell_type": "code",
      "source": [
        "data.dtypes"
      ],
      "metadata": {
        "colab": {
          "base_uri": "https://localhost:8080/"
        },
        "id": "UKwL4NVTiW6a",
        "outputId": "49bd9de7-d844-4be6-d039-65ddb8c9c932"
      },
      "execution_count": null,
      "outputs": [
        {
          "output_type": "execute_result",
          "data": {
            "text/plain": [
              "[('id_cliente', 'int'),\n",
              " ('producto', 'string'),\n",
              " ('cantidad', 'int'),\n",
              " ('monto_total', 'double')]"
            ]
          },
          "metadata": {},
          "execution_count": 9
        }
      ]
    },
    {
      "cell_type": "code",
      "source": [
        "data.select(data.cantidad, data.monto_total).show(truncate=False)"
      ],
      "metadata": {
        "colab": {
          "base_uri": "https://localhost:8080/"
        },
        "id": "uetlc7zMiZwU",
        "outputId": "1bcccaf1-591b-4bda-db85-1b3ab5e1fba9"
      },
      "execution_count": null,
      "outputs": [
        {
          "output_type": "stream",
          "name": "stdout",
          "text": [
            "+--------+-----------+\n",
            "|cantidad|monto_total|\n",
            "+--------+-----------+\n",
            "|2       |20.0       |\n",
            "|1       |15.0       |\n",
            "|3       |30.0       |\n",
            "|2       |25.0       |\n",
            "|1       |10.0       |\n",
            "|2       |30.0       |\n",
            "|4       |40.0       |\n",
            "|3       |35.0       |\n",
            "|2       |20.0       |\n",
            "|1       |15.0       |\n",
            "|2       |20.0       |\n",
            "|1       |15.0       |\n",
            "|3       |30.0       |\n",
            "|2       |25.0       |\n",
            "|1       |10.0       |\n",
            "|2       |30.0       |\n",
            "|4       |40.0       |\n",
            "|3       |35.0       |\n",
            "|2       |20.0       |\n",
            "|1       |15.0       |\n",
            "+--------+-----------+\n",
            "only showing top 20 rows\n",
            "\n"
          ]
        }
      ]
    },
    {
      "cell_type": "code",
      "source": [
        "#suma total de las columnas cantidad y monto_total\n",
        "total_cantidad = data.groupBy().sum(\"cantidad\").collect()[0][0]\n",
        "total_valor = data.groupBy().sum(\"monto_total\").collect()[0][0]\n",
        "\n",
        "print(\"Ventas totales en cantidad:\",total_cantidad)\n",
        "print(\"Ventas totales en valor de venta:\", total_valor)"
      ],
      "metadata": {
        "colab": {
          "base_uri": "https://localhost:8080/"
        },
        "id": "O_GOV3lRjYX0",
        "outputId": "e84f3ffe-1958-4503-8fa4-218220c4a0f5"
      },
      "execution_count": null,
      "outputs": [
        {
          "output_type": "stream",
          "name": "stdout",
          "text": [
            "Ventas totales en cantidad: 840\n",
            "Ventas totales en valor de venta: 9600.0\n"
          ]
        }
      ]
    },
    {
      "cell_type": "code",
      "source": [
        "#filtrado cuantas veces se ha vendido el producto 1, 2, 3\n",
        "cantidad_producto_1 = data.filter(data.producto == \"producto_1\").groupBy().sum(\"cantidad\").collect()[0][0]\n",
        "cantidad_producto_2 = data.filter(data.producto == \"producto_2\").groupBy().sum(\"cantidad\").collect()[0][0]\n",
        "cantidad_producto_3 = data.filter(data.producto == \"producto_3\").groupBy().sum(\"cantidad\").collect()[0][0]\n",
        "\n",
        "print(\"Cantidad de producto 1 vendido:\", cantidad_producto_1)\n",
        "print(\"Cantidad de producto 2 vendido:\", cantidad_producto_2)\n",
        "print(\"Cantidad de producto 3 vendido:\", cantidad_producto_3)"
      ],
      "metadata": {
        "colab": {
          "base_uri": "https://localhost:8080/"
        },
        "id": "qpgwlJBhlf0v",
        "outputId": "de6c1ae8-f8c2-4582-f195-4c7d4b9a7b7e"
      },
      "execution_count": null,
      "outputs": [
        {
          "output_type": "stream",
          "name": "stdout",
          "text": [
            "Cantidad de producto 1 vendido: 6\n",
            "Cantidad de producto 2 vendido: 3\n",
            "Cantidad de producto 3 vendido: 9\n"
          ]
        }
      ]
    },
    {
      "cell_type": "code",
      "source": [
        "#ganacia total\n",
        "from pyspark.sql.functions import sum as spark_sum, col\n",
        "ventas = data.withColumn(\"ganancia\", col(\"cantidad\") * col(\"monto_total\"))\n",
        "ganancia = ventas.agg(spark_sum(\"ganancia\")).collect()[0][0]\n",
        "print(ventas.show())\n",
        "print(\"Ganancia: \",ganancia)"
      ],
      "metadata": {
        "colab": {
          "base_uri": "https://localhost:8080/"
        },
        "id": "TisYdEvHl6w4",
        "outputId": "b2442808-4e0e-4b1d-a293-d9c476f619e7"
      },
      "execution_count": null,
      "outputs": [
        {
          "output_type": "stream",
          "name": "stdout",
          "text": [
            "+----------+-----------+--------+-----------+--------+\n",
            "|id_cliente|   producto|cantidad|monto_total|ganancia|\n",
            "+----------+-----------+--------+-----------+--------+\n",
            "|         1| producto_1|       2|       20.0|    40.0|\n",
            "|         2| producto_2|       1|       15.0|    15.0|\n",
            "|         3| producto_3|       3|       30.0|    90.0|\n",
            "|         4| producto_4|       2|       25.0|    50.0|\n",
            "|         5| producto_5|       1|       10.0|    10.0|\n",
            "|         6| producto_6|       2|       30.0|    60.0|\n",
            "|         7| producto_7|       4|       40.0|   160.0|\n",
            "|         8| producto_8|       3|       35.0|   105.0|\n",
            "|         9| producto_9|       2|       20.0|    40.0|\n",
            "|        10|producto_10|       1|       15.0|    15.0|\n",
            "|        11|producto_11|       2|       20.0|    40.0|\n",
            "|        12|producto_12|       1|       15.0|    15.0|\n",
            "|        13|producto_13|       3|       30.0|    90.0|\n",
            "|        14|producto_14|       2|       25.0|    50.0|\n",
            "|        15|producto_15|       1|       10.0|    10.0|\n",
            "|        16|producto_16|       2|       30.0|    60.0|\n",
            "|        17|producto_17|       4|       40.0|   160.0|\n",
            "|        18|producto_18|       3|       35.0|   105.0|\n",
            "|        19|producto_19|       2|       20.0|    40.0|\n",
            "|        20|producto_20|       1|       15.0|    15.0|\n",
            "+----------+-----------+--------+-----------+--------+\n",
            "only showing top 20 rows\n",
            "\n",
            "None\n",
            "Ganancia:  23400.0\n"
          ]
        }
      ]
    },
    {
      "cell_type": "code",
      "source": [
        "\n",
        "#ganancia del producto 1,2 y 3\n",
        "ganancia_producto_1 = ventas.filter(ventas.producto == \"producto_1\").agg(spark_sum(\"ganancia\")).collect()[0][0]\n",
        "ganancia_producto_2 = ventas.filter(ventas.producto == \"producto_2\").agg(spark_sum(\"ganancia\")).collect()[0][0]\n",
        "ganancia_producto_3 = ventas.filter(ventas.producto == \"producto_3\").agg(spark_sum(\"ganancia\")).collect()[0][0]\n",
        "print(\"Ganancia de producto 1:\" ,ganancia_producto_1)\n",
        "print(\"Ganancia de producto 2:\" ,ganancia_producto_2)\n",
        "print(\"Ganancia de producto 3:\" ,ganancia_producto_3)"
      ],
      "metadata": {
        "colab": {
          "base_uri": "https://localhost:8080/"
        },
        "id": "TDJAi35EmLPU",
        "outputId": "e71329fd-d367-4d75-8167-62f192fd20cc"
      },
      "execution_count": null,
      "outputs": [
        {
          "output_type": "stream",
          "name": "stdout",
          "text": [
            "Ganancia de producto 1: 120.0\n",
            "Ganancia de producto 2: 45.0\n",
            "Ganancia de producto 3: 270.0\n"
          ]
        }
      ]
    }
  ]
}